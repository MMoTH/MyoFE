{
 "cells": [
  {
   "cell_type": "code",
   "execution_count": 1,
   "metadata": {},
   "outputs": [],
   "source": [
    "import numpy as np\n",
    "import pandas as pd\n",
    "from PyCMLutil.plots.multi_panel import multi_panel_from_flat_data as mpl"
   ]
  },
  {
   "cell_type": "code",
   "execution_count": 2,
   "metadata": {},
   "outputs": [],
   "source": [
    "data_str = 'data.csv'\n",
    "spatial_data_str = 'spatial_data.csv'\n",
    "\n",
    "df = pd.read_csv(data_str)\n",
    "sp_df = pd.read_csv(spatial_data_str)\n",
    "\n"
   ]
  },
  {
   "cell_type": "code",
   "execution_count": 4,
   "metadata": {},
   "outputs": [
    {
     "name": "stderr",
     "output_type": "stream",
     "text": [
      "/opt/anaconda3/lib/python3.7/site-packages/pandas/core/indexing.py:1732: SettingWithCopyWarning: \n",
      "A value is trying to be set on a copy of a slice from a DataFrame\n",
      "\n",
      "See the caveats in the documentation: https://pandas.pydata.org/pandas-docs/stable/user_guide/indexing.html#returning-a-view-versus-a-copy\n",
      "  self._setitem_single_block(indexer, value, name)\n"
     ]
    }
   ],
   "source": [
    "for v in ['k_1','k_2','k_3','k_on','k_act','k_serca','n_on','n_off',\n",
    "                            'M_SRX','M_DRX','M_FG','hs_length','Ca_cytosol','Ca_SR',\n",
    "                            'J_release','J_uptake','J_1','J_2','J_3','J_4','J_on','J_off',\n",
    "                            'total_stress','cb_stress','pas_stress']:\n",
    "    df[v] = sp_df[v]\n",
    "\n",
    "window = 400\n",
    "df['ED_volume_ventricle'] = \\\n",
    "    df['volume_ventricle'].rolling(window = window).max()\n",
    "df['ES_volume_ventricle'] = \\\n",
    "                        df['volume_ventricle'].rolling(window = window).min()\n",
    "df['stroke_volume'] = \\\n",
    "                        df['ED_volume_ventricle'] - df['ES_volume_ventricle']\n",
    "df['ejection_fraction'] = \\\n",
    "                        df['stroke_volume'] / df['ED_volume_ventricle']\n",
    "df['ejection_fraction'].loc[:window+1] = df['ejection_fraction'].iloc[window+1]\n",
    "df['cardiac_output'] = \\\n",
    "                        df['heart_rate'] * df['stroke_volume']"
   ]
  },
  {
   "cell_type": "code",
   "execution_count": null,
   "metadata": {},
   "outputs": [],
   "source": [
    "output_str = 'figures/multipanel_figure.jpeg'\n",
    "template_file_string = 'template.json'\n",
    "\n",
    "mpl(pandas_data = df,\n",
    "                    template_file_string = template_file_string,\n",
    "                    output_image_file_string = output_str,\n",
    "                    dpi = 300)"
   ]
  }
 ],
 "metadata": {
  "kernelspec": {
   "display_name": "Python 3",
   "language": "python",
   "name": "python3"
  },
  "language_info": {
   "codemirror_mode": {
    "name": "ipython",
    "version": 3
   },
   "file_extension": ".py",
   "mimetype": "text/x-python",
   "name": "python",
   "nbconvert_exporter": "python",
   "pygments_lexer": "ipython3",
   "version": "3.7.4"
  },
  "orig_nbformat": 4
 },
 "nbformat": 4,
 "nbformat_minor": 2
}
