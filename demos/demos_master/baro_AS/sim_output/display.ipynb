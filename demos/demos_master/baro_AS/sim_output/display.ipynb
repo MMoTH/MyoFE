{
 "cells": [
  {
   "cell_type": "code",
   "execution_count": 1,
   "metadata": {},
   "outputs": [],
   "source": [
    "import numpy as np\n",
    "import pandas as pd\n",
    "from PyCMLutil.plots.multi_panel import multi_panel_from_flat_data as mpl"
   ]
  },
  {
   "cell_type": "code",
   "execution_count": 3,
   "metadata": {},
   "outputs": [
    {
     "name": "stdout",
     "output_type": "stream",
     "text": [
      "   Unnamed: 0  activation  aorta_compliance  aorta_resistance  \\\n",
      "0           0         0.0            0.0004              20.0   \n",
      "1           1         0.0            0.0004              20.0   \n",
      "2           2         0.0            0.0004              20.0   \n",
      "3           3         0.0            0.0004              20.0   \n",
      "4           4         0.0            0.0004              20.0   \n",
      "\n",
      "   aorta_slack_volume  aortic_insufficiency_conductance  aortic_reg_volume  \\\n",
      "0                 0.3                               0.0                0.0   \n",
      "1                 0.3                               0.0                0.0   \n",
      "2                 0.3                               0.0                0.0   \n",
      "3                 0.3                               0.0                0.0   \n",
      "4                 0.3                               0.0                0.0   \n",
      "\n",
      "   arteries_compliance  arteries_resistance  arteries_slack_volume  ...  \\\n",
      "0               0.0008                 20.0                    0.3  ...   \n",
      "1               0.0008                 20.0                    0.3  ...   \n",
      "2               0.0008                 20.0                    0.3  ...   \n",
      "3               0.0008                 20.0                    0.3  ...   \n",
      "4               0.0008                 20.0                    0.3  ...   \n",
      "\n",
      "   venules_resistance  venules_slack_volume  volume_aorta  volume_arteries  \\\n",
      "0                50.0                   0.5      0.300000         0.300000   \n",
      "1                50.0                   0.5      0.300064         0.300027   \n",
      "2                50.0                   0.5      0.300172         0.300126   \n",
      "3                50.0                   0.5      0.300299         0.300289   \n",
      "4                50.0                   0.5      0.300439         0.300500   \n",
      "\n",
      "   volume_arterioles  volume_capillaries  volume_veins  volume_ventricle  \\\n",
      "0           0.100000            0.250000      2.982416          0.067388   \n",
      "1           0.100000            0.250008      2.970949          0.076818   \n",
      "2           0.100001            0.250028      2.960091          0.085557   \n",
      "3           0.100004            0.250060      2.949839          0.093639   \n",
      "4           0.100010            0.250104      2.940178          0.101098   \n",
      "\n",
      "   volume_venules  write_mode  \n",
      "0        0.500196           1  \n",
      "1        0.502134           1  \n",
      "2        0.504024           1  \n",
      "3        0.505869           1  \n",
      "4        0.507670           1  \n",
      "\n",
      "[5 rows x 696 columns]\n"
     ]
    }
   ],
   "source": [
    "data_str = 'data_baro_paper.csv'\n",
    "spatial_data_str = 'spatial_data_baro_paper.csv'\n",
    "\n",
    "df = pd.read_csv(data_str)\n",
    "sp_df = pd.read_csv(spatial_data_str)\n",
    "\n",
    "data_str = 'data.csv'\n",
    "spatial_data_str = 'spatial_data.csv'\n",
    "\n",
    "df_new_master = pd.read_csv(data_str)\n",
    "sp_d_new_master = pd.read_csv(spatial_data_str)\n",
    "\n",
    "print(df.head())"
   ]
  },
  {
   "cell_type": "code",
   "execution_count": 5,
   "metadata": {},
   "outputs": [
    {
     "name": "stderr",
     "output_type": "stream",
     "text": [
      "/opt/anaconda3/lib/python3.7/site-packages/pandas/core/indexing.py:1732: SettingWithCopyWarning: \n",
      "A value is trying to be set on a copy of a slice from a DataFrame\n",
      "\n",
      "See the caveats in the documentation: https://pandas.pydata.org/pandas-docs/stable/user_guide/indexing.html#returning-a-view-versus-a-copy\n",
      "  self._setitem_single_block(indexer, value, name)\n"
     ]
    }
   ],
   "source": [
    "for v in ['k_1','k_3','k_on','k_act','k_serca','n_on','n_off',\n",
    "                            'M_SRX','M_DRX','M_FG','hs_length','Ca_cytosol',\n",
    "                            'total_stress','cb_stress','pas_stress']:\n",
    "    df[v] = sp_df[v]\n",
    "    df_new_master[v] = sp_d_new_master[v]\n",
    "    \n",
    "\n",
    "window = 400\n",
    "df['ED_volume_ventricle'] = \\\n",
    "    df['volume_ventricle'].rolling(window = window).max()\n",
    "df['ES_volume_ventricle'] = \\\n",
    "                        df['volume_ventricle'].rolling(window = window).min()\n",
    "df['stroke_volume'] = \\\n",
    "                        df['ED_volume_ventricle'] - df['ES_volume_ventricle']\n",
    "df['ejection_fraction'] = \\\n",
    "                        df['stroke_volume'] / df['ED_volume_ventricle']\n",
    "df['ejection_fraction'].loc[:window+1] = df['ejection_fraction'].iloc[window+1]\n",
    "df['cardiac_output'] = \\\n",
    "                        df['heart_rate'] * df['stroke_volume']\n",
    "\n",
    "consolidated_df = pd.DataFrame()\n",
    "consolidated_df['time'] = df['time']\n",
    "for v in ['baroreflex_active','pressure_arteries','baro_b_setpoint',\n",
    "            'baro_b','baro_c','heart_rate_t_quiescent_period_rc',\n",
    "            'pressure_ventricle','volume_ventricle','heart_rate','arterioles_resistance',\n",
    "            'veins_compliance','k_1','k_on','k_act','k_serca']:\n",
    "    for p in ['old_master','new_master']:\n",
    "        new_param_name = v + '_' + p\n",
    "        if p == 'old_master':\n",
    "         \n",
    "            consolidated_df[new_param_name] = df[v]\n",
    "        else:\n",
    "            consolidated_df[new_param_name] = df_new_master[v]\n"
   ]
  },
  {
   "cell_type": "code",
   "execution_count": 6,
   "metadata": {},
   "outputs": [
    {
     "ename": "KeyError",
     "evalue": "'baroreflex_active_old_master'",
     "output_type": "error",
     "traceback": [
      "\u001b[0;31m---------------------------------------------------------------------------\u001b[0m",
      "\u001b[0;31mKeyError\u001b[0m                                  Traceback (most recent call last)",
      "\u001b[0;32m/opt/anaconda3/lib/python3.7/site-packages/pandas/core/indexes/base.py\u001b[0m in \u001b[0;36mget_loc\u001b[0;34m(self, key, method, tolerance)\u001b[0m\n\u001b[1;32m   3360\u001b[0m             \u001b[0;32mtry\u001b[0m\u001b[0;34m:\u001b[0m\u001b[0;34m\u001b[0m\u001b[0;34m\u001b[0m\u001b[0m\n\u001b[0;32m-> 3361\u001b[0;31m                 \u001b[0;32mreturn\u001b[0m \u001b[0mself\u001b[0m\u001b[0;34m.\u001b[0m\u001b[0m_engine\u001b[0m\u001b[0;34m.\u001b[0m\u001b[0mget_loc\u001b[0m\u001b[0;34m(\u001b[0m\u001b[0mcasted_key\u001b[0m\u001b[0;34m)\u001b[0m\u001b[0;34m\u001b[0m\u001b[0;34m\u001b[0m\u001b[0m\n\u001b[0m\u001b[1;32m   3362\u001b[0m             \u001b[0;32mexcept\u001b[0m \u001b[0mKeyError\u001b[0m \u001b[0;32mas\u001b[0m \u001b[0merr\u001b[0m\u001b[0;34m:\u001b[0m\u001b[0;34m\u001b[0m\u001b[0;34m\u001b[0m\u001b[0m\n",
      "\u001b[0;32m/opt/anaconda3/lib/python3.7/site-packages/pandas/_libs/index.pyx\u001b[0m in \u001b[0;36mpandas._libs.index.IndexEngine.get_loc\u001b[0;34m()\u001b[0m\n",
      "\u001b[0;32m/opt/anaconda3/lib/python3.7/site-packages/pandas/_libs/index.pyx\u001b[0m in \u001b[0;36mpandas._libs.index.IndexEngine.get_loc\u001b[0;34m()\u001b[0m\n",
      "\u001b[0;32mpandas/_libs/hashtable_class_helper.pxi\u001b[0m in \u001b[0;36mpandas._libs.hashtable.PyObjectHashTable.get_item\u001b[0;34m()\u001b[0m\n",
      "\u001b[0;32mpandas/_libs/hashtable_class_helper.pxi\u001b[0m in \u001b[0;36mpandas._libs.hashtable.PyObjectHashTable.get_item\u001b[0;34m()\u001b[0m\n",
      "\u001b[0;31mKeyError\u001b[0m: 'baroreflex_active_old_master'",
      "\nThe above exception was the direct cause of the following exception:\n",
      "\u001b[0;31mKeyError\u001b[0m                                  Traceback (most recent call last)",
      "\u001b[0;32m<ipython-input-6-a87886d88ff4>\u001b[0m in \u001b[0;36m<module>\u001b[0;34m\u001b[0m\n\u001b[1;32m      5\u001b[0m                     \u001b[0mtemplate_file_string\u001b[0m \u001b[0;34m=\u001b[0m \u001b[0mtemplate_file_string\u001b[0m\u001b[0;34m,\u001b[0m\u001b[0;34m\u001b[0m\u001b[0;34m\u001b[0m\u001b[0m\n\u001b[1;32m      6\u001b[0m                     \u001b[0moutput_image_file_string\u001b[0m \u001b[0;34m=\u001b[0m \u001b[0moutput_str\u001b[0m\u001b[0;34m,\u001b[0m\u001b[0;34m\u001b[0m\u001b[0;34m\u001b[0m\u001b[0m\n\u001b[0;32m----> 7\u001b[0;31m                     dpi = 300)\n\u001b[0m",
      "\u001b[0;32m/opt/anaconda3/lib/python3.7/site-packages/PyCMLutil/plots/multi_panel.py\u001b[0m in \u001b[0;36mmulti_panel_from_flat_data\u001b[0;34m(data_file_string, excel_sheet, pandas_data, template_file_string, output_image_file_string, dpi)\u001b[0m\n\u001b[1;32m    252\u001b[0m                             (x <= p_data['x_ticks'][-1]))\n\u001b[1;32m    253\u001b[0m             \u001b[0mx\u001b[0m \u001b[0;34m=\u001b[0m \u001b[0mx\u001b[0m\u001b[0;34m[\u001b[0m\u001b[0mvi\u001b[0m\u001b[0;34m]\u001b[0m\u001b[0;34m\u001b[0m\u001b[0;34m\u001b[0m\u001b[0m\n\u001b[0;32m--> 254\u001b[0;31m             \u001b[0my\u001b[0m \u001b[0;34m=\u001b[0m \u001b[0mpandas_data\u001b[0m\u001b[0;34m[\u001b[0m\u001b[0my_d\u001b[0m\u001b[0;34m[\u001b[0m\u001b[0;34m'field'\u001b[0m\u001b[0;34m]\u001b[0m\u001b[0;34m]\u001b[0m\u001b[0;34m.\u001b[0m\u001b[0mto_numpy\u001b[0m\u001b[0;34m(\u001b[0m\u001b[0;34m)\u001b[0m\u001b[0;34m[\u001b[0m\u001b[0mvi\u001b[0m\u001b[0;34m]\u001b[0m\u001b[0;34m\u001b[0m\u001b[0;34m\u001b[0m\u001b[0m\n\u001b[0m\u001b[1;32m    255\u001b[0m \u001b[0;34m\u001b[0m\u001b[0m\n\u001b[1;32m    256\u001b[0m             \u001b[0;32mif\u001b[0m \u001b[0;34m'scaling_factor'\u001b[0m \u001b[0;32min\u001b[0m \u001b[0my_d\u001b[0m\u001b[0;34m:\u001b[0m\u001b[0;34m\u001b[0m\u001b[0;34m\u001b[0m\u001b[0m\n",
      "\u001b[0;32m/opt/anaconda3/lib/python3.7/site-packages/pandas/core/frame.py\u001b[0m in \u001b[0;36m__getitem__\u001b[0;34m(self, key)\u001b[0m\n\u001b[1;32m   3453\u001b[0m             \u001b[0;32mif\u001b[0m \u001b[0mself\u001b[0m\u001b[0;34m.\u001b[0m\u001b[0mcolumns\u001b[0m\u001b[0;34m.\u001b[0m\u001b[0mnlevels\u001b[0m \u001b[0;34m>\u001b[0m \u001b[0;36m1\u001b[0m\u001b[0;34m:\u001b[0m\u001b[0;34m\u001b[0m\u001b[0;34m\u001b[0m\u001b[0m\n\u001b[1;32m   3454\u001b[0m                 \u001b[0;32mreturn\u001b[0m \u001b[0mself\u001b[0m\u001b[0;34m.\u001b[0m\u001b[0m_getitem_multilevel\u001b[0m\u001b[0;34m(\u001b[0m\u001b[0mkey\u001b[0m\u001b[0;34m)\u001b[0m\u001b[0;34m\u001b[0m\u001b[0;34m\u001b[0m\u001b[0m\n\u001b[0;32m-> 3455\u001b[0;31m             \u001b[0mindexer\u001b[0m \u001b[0;34m=\u001b[0m \u001b[0mself\u001b[0m\u001b[0;34m.\u001b[0m\u001b[0mcolumns\u001b[0m\u001b[0;34m.\u001b[0m\u001b[0mget_loc\u001b[0m\u001b[0;34m(\u001b[0m\u001b[0mkey\u001b[0m\u001b[0;34m)\u001b[0m\u001b[0;34m\u001b[0m\u001b[0;34m\u001b[0m\u001b[0m\n\u001b[0m\u001b[1;32m   3456\u001b[0m             \u001b[0;32mif\u001b[0m \u001b[0mis_integer\u001b[0m\u001b[0;34m(\u001b[0m\u001b[0mindexer\u001b[0m\u001b[0;34m)\u001b[0m\u001b[0;34m:\u001b[0m\u001b[0;34m\u001b[0m\u001b[0;34m\u001b[0m\u001b[0m\n\u001b[1;32m   3457\u001b[0m                 \u001b[0mindexer\u001b[0m \u001b[0;34m=\u001b[0m \u001b[0;34m[\u001b[0m\u001b[0mindexer\u001b[0m\u001b[0;34m]\u001b[0m\u001b[0;34m\u001b[0m\u001b[0;34m\u001b[0m\u001b[0m\n",
      "\u001b[0;32m/opt/anaconda3/lib/python3.7/site-packages/pandas/core/indexes/base.py\u001b[0m in \u001b[0;36mget_loc\u001b[0;34m(self, key, method, tolerance)\u001b[0m\n\u001b[1;32m   3361\u001b[0m                 \u001b[0;32mreturn\u001b[0m \u001b[0mself\u001b[0m\u001b[0;34m.\u001b[0m\u001b[0m_engine\u001b[0m\u001b[0;34m.\u001b[0m\u001b[0mget_loc\u001b[0m\u001b[0;34m(\u001b[0m\u001b[0mcasted_key\u001b[0m\u001b[0;34m)\u001b[0m\u001b[0;34m\u001b[0m\u001b[0;34m\u001b[0m\u001b[0m\n\u001b[1;32m   3362\u001b[0m             \u001b[0;32mexcept\u001b[0m \u001b[0mKeyError\u001b[0m \u001b[0;32mas\u001b[0m \u001b[0merr\u001b[0m\u001b[0;34m:\u001b[0m\u001b[0;34m\u001b[0m\u001b[0;34m\u001b[0m\u001b[0m\n\u001b[0;32m-> 3363\u001b[0;31m                 \u001b[0;32mraise\u001b[0m \u001b[0mKeyError\u001b[0m\u001b[0;34m(\u001b[0m\u001b[0mkey\u001b[0m\u001b[0;34m)\u001b[0m \u001b[0;32mfrom\u001b[0m \u001b[0merr\u001b[0m\u001b[0;34m\u001b[0m\u001b[0;34m\u001b[0m\u001b[0m\n\u001b[0m\u001b[1;32m   3364\u001b[0m \u001b[0;34m\u001b[0m\u001b[0m\n\u001b[1;32m   3365\u001b[0m         \u001b[0;32mif\u001b[0m \u001b[0mis_scalar\u001b[0m\u001b[0;34m(\u001b[0m\u001b[0mkey\u001b[0m\u001b[0;34m)\u001b[0m \u001b[0;32mand\u001b[0m \u001b[0misna\u001b[0m\u001b[0;34m(\u001b[0m\u001b[0mkey\u001b[0m\u001b[0;34m)\u001b[0m \u001b[0;32mand\u001b[0m \u001b[0;32mnot\u001b[0m \u001b[0mself\u001b[0m\u001b[0;34m.\u001b[0m\u001b[0mhasnans\u001b[0m\u001b[0;34m:\u001b[0m\u001b[0;34m\u001b[0m\u001b[0;34m\u001b[0m\u001b[0m\n",
      "\u001b[0;31mKeyError\u001b[0m: 'baroreflex_active_old_master'"
     ]
    },
    {
     "data": {
      "image/png": "[encoded data removed]",
      "text/plain": [
       "<Figure size 576x763.2 with 1 Axes>"
      ]
     },
     "metadata": {
      "needs_background": "light"
     },
     "output_type": "display_data"
    }
   ],
   "source": [
    "output_str = 'figures/multipanel_figure_compare.jpeg'\n",
    "template_file_string = 'template_baro_MI_compare.json'\n",
    "\n",
    "mpl(pandas_data = consolidated_df,\n",
    "                    template_file_string = template_file_string,\n",
    "                    output_image_file_string = output_str,\n",
    "                    dpi = 300)"
   ]
  },
  {
   "cell_type": "code",
   "execution_count": 5,
   "metadata": {},
   "outputs": [
    {
     "name": "stdout",
     "output_type": "stream",
     "text": [
      "Saving figure to figures/PV_loop_figure.jpeg\n"
     ]
    },
    {
     "data": {
      "text/plain": [
       "(<Figure size 432x295.2 with 1 Axes>,\n",
       " [<AxesSubplot:xlabel='Time (s)', ylabel='Pressure\\nmmHg'>])"
      ]
     },
     "execution_count": 5,
     "metadata": {},
     "output_type": "execute_result"
    },
    {
     "data": {
      "image/png": "[encoded data removed]",
      "text/plain": [
       "<Figure size 432x295.2 with 1 Axes>"
      ]
     },
     "metadata": {
      "needs_background": "light"
     },
     "output_type": "display_data"
    }
   ],
   "source": [
    "output_str = 'figures/PV_loop_figure.jpeg'\n",
    "template_file_string = 'template_pv_loop.json'\n",
    "\n",
    "time_frames = [(4.05,5)]\n",
    "pv_loop_data = df[df['time'].between(time_frames[0][0],time_frames[0][-1])].reset_index()\n",
    "\n",
    "\n",
    "mpl(pandas_data = pv_loop_data,\n",
    "                template_file_string= template_file_string,\n",
    "                output_image_file_string = output_str)\n"
   ]
  }
 ],
 "metadata": {
  "kernelspec": {
   "display_name": "Python 3",
   "language": "python",
   "name": "python3"
  },
  "language_info": {
   "codemirror_mode": {
    "name": "ipython",
    "version": 3
   },
   "file_extension": ".py",
   "mimetype": "text/x-python",
   "name": "python",
   "nbconvert_exporter": "python",
   "pygments_lexer": "ipython3",
   "version": "3.7.4"
  },
  "orig_nbformat": 4
 },
 "nbformat": 4,
 "nbformat_minor": 2
}
